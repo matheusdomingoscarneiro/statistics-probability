{
 "cells": [
  {
   "cell_type": "code",
   "execution_count": 2,
   "id": "f8ac9eee-6058-43fc-81d2-1e6a61dc0547",
   "metadata": {},
   "outputs": [
    {
     "data": {
      "text/plain": [
       "' Chapter 3 - Basic Probability '"
      ]
     },
     "execution_count": 2,
     "metadata": {},
     "output_type": "execute_result"
    }
   ],
   "source": [
    "''' Chapter 3 - Basic Probability '''"
   ]
  },
  {
   "cell_type": "code",
   "execution_count": 3,
   "id": "904b2b75-bdb0-4f10-b0f8-1d77fdbbbeda",
   "metadata": {},
   "outputs": [
    {
     "data": {
      "text/plain": [
       "' Example 1: The probability of two students have the same birthday in a class with 23 students '"
      ]
     },
     "execution_count": 3,
     "metadata": {},
     "output_type": "execute_result"
    }
   ],
   "source": [
    "''' Example 1: The probability of two students have the same birthday in a class with 23 students ''' "
   ]
  },
  {
   "cell_type": "code",
   "execution_count": 70,
   "id": "83215838-bfa0-4e79-9f81-1bc8e0319eb6",
   "metadata": {},
   "outputs": [],
   "source": [
    "import numpy as np\n",
    "from matplotlib import pyplot as plt\n",
    "\n",
    "np.random.seed(14)"
   ]
  },
  {
   "cell_type": "code",
   "execution_count": 71,
   "id": "fffa3f4d-b4f7-4cc5-8616-832d3188d8ac",
   "metadata": {
    "scrolled": true
   },
   "outputs": [],
   "source": [
    "events = 100000 # Total number of events\n",
    "students = 23\n",
    "occurrences = 0 # Occurrences in which there is two students with the same birthday\n",
    "\n",
    "for event in range(events):\n",
    "\n",
    "    birthdays = np.zeros(students)\n",
    "    same_day = 0 # The same birthday students quantity\n",
    "    \n",
    "    for student in range(students):\n",
    "\n",
    "        birthdays[student] = np.random.randint(1, 366) # Choose a random birthday for each student\n",
    "\n",
    "    # Checks if there is students with the same birthday\n",
    "    for i in range(birthdays.shape[0]): \n",
    "        for j in range(birthdays.shape[0]):\n",
    "            if i != j:\n",
    "                if birthdays[i] == birthdays[j]:\n",
    "                    same_day += 1\n",
    "\n",
    "    # Add 1 to occurrences if the quantity of the same birthday students is greater than zero\n",
    "    if same_day > 0:\n",
    "        occurrences += 1\n",
    "\n",
    "\n",
    "probability = occurrences / events"
   ]
  },
  {
   "cell_type": "code",
   "execution_count": 72,
   "id": "5d71b96d-c68c-425b-942e-9d4345b3d242",
   "metadata": {},
   "outputs": [
    {
     "data": {
      "text/plain": [
       "0.50773"
      ]
     },
     "execution_count": 72,
     "metadata": {},
     "output_type": "execute_result"
    }
   ],
   "source": [
    "probability"
   ]
  }
 ],
 "metadata": {
  "kernelspec": {
   "display_name": "Python 3 (ipykernel)",
   "language": "python",
   "name": "python3"
  },
  "language_info": {
   "codemirror_mode": {
    "name": "ipython",
    "version": 3
   },
   "file_extension": ".py",
   "mimetype": "text/x-python",
   "name": "python",
   "nbconvert_exporter": "python",
   "pygments_lexer": "ipython3",
   "version": "3.12.2"
  }
 },
 "nbformat": 4,
 "nbformat_minor": 5
}
