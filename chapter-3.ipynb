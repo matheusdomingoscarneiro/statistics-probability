{
 "cells": [
  {
   "cell_type": "code",
   "execution_count": 2,
   "id": "f8ac9eee-6058-43fc-81d2-1e6a61dc0547",
   "metadata": {},
   "outputs": [
    {
     "data": {
      "text/plain": [
       "' Chapter 3 - Basic Probability '"
      ]
     },
     "execution_count": 2,
     "metadata": {},
     "output_type": "execute_result"
    }
   ],
   "source": [
    "''' Chapter 3 - Basic Probability '''"
   ]
  },
  {
   "cell_type": "code",
   "execution_count": 3,
   "id": "904b2b75-bdb0-4f10-b0f8-1d77fdbbbeda",
   "metadata": {},
   "outputs": [
    {
     "data": {
      "text/plain": [
       "' Example 1: The probability of two students have the same birthday in a class with 23 students '"
      ]
     },
     "execution_count": 3,
     "metadata": {},
     "output_type": "execute_result"
    }
   ],
   "source": [
    "''' Example 1: The probability of two students have the same birthday in a class with 23 students ''' "
   ]
  },
  {
   "cell_type": "code",
   "execution_count": 25,
   "id": "83215838-bfa0-4e79-9f81-1bc8e0319eb6",
   "metadata": {},
   "outputs": [],
   "source": [
    "import numpy as np\n",
    "import math\n",
    "from matplotlib import pyplot as plt\n",
    "\n",
    "np.random.seed(14)"
   ]
  },
  {
   "cell_type": "code",
   "execution_count": 71,
   "id": "fffa3f4d-b4f7-4cc5-8616-832d3188d8ac",
   "metadata": {
    "scrolled": true
   },
   "outputs": [],
   "source": [
    "events = 100000 # Total number of events\n",
    "students = 23\n",
    "occurrences = 0 # Occurrences in which there is two students with the same birthday\n",
    "\n",
    "for event in range(events):\n",
    "\n",
    "    birthdays = np.zeros(students)\n",
    "    same_day = 0 # The same birthday students quantity\n",
    "    \n",
    "    for student in range(students):\n",
    "\n",
    "        birthdays[student] = np.random.randint(1, 366) # Choose a random birthday for each student\n",
    "\n",
    "    # Checks if there is students with the same birthday\n",
    "    for i in range(birthdays.shape[0]): \n",
    "        for j in range(birthdays.shape[0]):\n",
    "            if i != j:\n",
    "                if birthdays[i] == birthdays[j]:\n",
    "                    same_day += 1\n",
    "\n",
    "    # Add 1 to occurrences if the quantity of the same birthday students is greater than zero\n",
    "    if same_day > 0:\n",
    "        occurrences += 1\n",
    "\n",
    "\n",
    "probability = occurrences / events"
   ]
  },
  {
   "cell_type": "code",
   "execution_count": 72,
   "id": "5d71b96d-c68c-425b-942e-9d4345b3d242",
   "metadata": {},
   "outputs": [
    {
     "data": {
      "text/plain": [
       "0.50773"
      ]
     },
     "execution_count": 72,
     "metadata": {},
     "output_type": "execute_result"
    }
   ],
   "source": [
    "probability"
   ]
  },
  {
   "cell_type": "code",
   "execution_count": null,
   "id": "d491c9ec-a44d-4d5b-8975-0d218e844849",
   "metadata": {},
   "outputs": [],
   "source": [
    "''' Problem 3.37 '''"
   ]
  },
  {
   "cell_type": "code",
   "execution_count": 43,
   "id": "490aa8e3-1d26-4a36-9a86-251da1e80e03",
   "metadata": {},
   "outputs": [],
   "source": [
    "def factorial(n):\n",
    "\n",
    "    fact = 1 # Initial value of product\n",
    "\n",
    "    # Multiplies sequentialy until the value of N in 'N!'\n",
    "    for number in range(1, n+1):\n",
    "\n",
    "        fact *= number\n",
    "\n",
    "    return fact"
   ]
  },
  {
   "cell_type": "code",
   "execution_count": 44,
   "id": "68c2fa5c-6ac8-40ee-8f1e-d24d3b7a80a6",
   "metadata": {},
   "outputs": [],
   "source": [
    "def stirlings_formula(n):\n",
    "\n",
    "    return np.sqrt(2*np.pi) * n**(n + 0.5) * np.exp(-n)"
   ]
  },
  {
   "cell_type": "code",
   "execution_count": 45,
   "id": "881c0e44-0dbc-430f-8dfe-d21b8d870f9d",
   "metadata": {
    "scrolled": true
   },
   "outputs": [
    {
     "name": "stdout",
     "output_type": "stream",
     "text": [
      "N 0 factorial 0.0 Stirling's -inf\n",
      "N 1 factorial 0.0 Stirling's -0.03520454772419432\n",
      "N 2 factorial 0.3010299956639812 Stirling's 0.28307595953250686\n",
      "N 3 factorial 0.7781512503836436 Stirling's 0.7661308799881206\n",
      "N 4 factorial 1.380211241711606 Stirling's 1.3711819675418808\n",
      "N 5 factorial 2.0791812460476247 Stirling's 2.0719525485109016\n",
      "N 6 factorial 2.8573324964312685 Stirling's 2.8513061702532303\n",
      "N 7 factorial 3.7024305364455254 Stirling's 3.6972638609632207\n",
      "N 8 factorial 4.605520523437469 Stirling's 4.600998968384563\n",
      "N 9 factorial 5.559763032876794 Stirling's 5.555743436723377\n",
      "N 10 factorial 6.559763032876794 Stirling's 6.556145115146539\n",
      "N 11 factorial 7.601155718035018 Stirling's 7.5978665125628755\n",
      "N 12 factorial 8.680336964082644 Stirling's 8.677321726935347\n",
      "N 13 factorial 9.79428031638948 Stirling's 9.79149692557908\n",
      "N 14 factorial 10.940408352067719 Stirling's 10.937823704867982\n",
      "N 15 factorial 12.1164996111234 Stirling's 12.114087220993339\n",
      "N 16 factorial 13.320619593779325 Stirling's 13.318357937549788\n",
      "N 17 factorial 14.5510685151576 Stirling's 14.54893986594357\n",
      "N 18 factorial 15.806341020260904 Stirling's 15.804330604331687\n",
      "N 19 factorial 17.085094621213734 Stirling's 17.083189996597437\n",
      "N 20 factorial 18.386124616877716 Stirling's 18.384315207225637\n",
      "N 21 factorial 19.708343911611635 Stirling's 19.706620650990033\n",
      "N 22 factorial 21.050766592433842 Stirling's 21.04912165080716\n",
      "N 23 factorial 22.41249442845143 Stirling's 22.410920996817698\n",
      "N 24 factorial 23.792705670163038 Stirling's 23.791197790435362\n",
      "N 25 factorial 25.190645678835075 Stirling's 25.189198107734722\n",
      "N 26 factorial 26.605619026805893 Stirling's 26.604227125921184\n",
      "N 27 factorial 28.03698279096488 Stirling's 28.03564243716341\n",
      "N 28 factorial 29.4841408223071 Stirling's 29.482848334141256\n",
      "N 29 factorial 30.946538820206058 Stirling's 30.945290897003957\n",
      "N 30 factorial 32.42366007492572 Stirling's 32.42245374603121\n",
      "N 31 factorial 33.91502176875999 Stirling's 33.91385435095784\n",
      "N 32 factorial 35.4201717470799 Stirling's 35.419040808671944\n",
      "N 33 factorial 36.93868568695778 Stirling's 36.93758901728098\n",
      "N 34 factorial 38.47016460400004 Stirling's 38.4691001874263\n",
      "N 35 factorial 40.014232648350315 Stirling's 40.01319864200003\n",
      "N 36 factorial 41.5705351491176 Stirling's 41.569529863667974\n",
      "N 37 factorial 43.1387368731846 Stirling's 43.137758756271054\n",
      "N 38 factorial 44.71852046980141 Stirling's 44.71756809160268\n",
      "N 39 factorial 46.30958507682791 Stirling's 46.30865711749895\n",
      "N 40 factorial 47.91164506815587 Stirling's 47.910740306831464\n",
      "N 41 factorial 49.52442892487561 Stirling's 49.52354623001476\n",
      "N 42 factorial 51.14767821527351 Stirling's 51.14681653615325\n",
      "N 43 factorial 52.78114667085309 Stirling's 52.780305030051245\n",
      "N 44 factorial 54.42459934733928 Stirling's 54.42377683407132\n",
      "N 45 factorial 56.077811861114625 Stirling's 56.07700762531086\n",
      "N 46 factorial 57.7405696927962 Stirling's 57.73978293982267\n",
      "N 47 factorial 59.41266755073192 Stirling's 59.411897536672804\n",
      "N 48 factorial 61.093908788107505 Stirling's 61.09315481553895\n",
      "N 49 factorial 62.78410486813602 Stirling's 62.783366282331144\n",
      "N 50 factorial 64.48307487247203 Stirling's 64.48235105798541\n",
      "N 51 factorial 66.19064504856998 Stirling's 66.18993542615694\n",
      "N 52 factorial 67.90664839220477 Stirling's 67.90595241603693\n",
      "N 53 factorial 69.63092426180556 Stirling's 69.63024141694892\n",
      "N 54 factorial 71.36331802162853 Stirling's 71.36264782175525\n",
      "N 55 factorial 73.10368071112278 Stirling's 73.10302269643074\n",
      "N 56 factorial 74.85186873812897 Stirling's 74.85122247344728\n",
      "N 57 factorial 76.60774359380146 Stirling's 76.60710866686196\n",
      "N 58 factorial 78.3711715873644 Stirling's 78.37054760722228\n",
      "N 59 factorial 80.14202359900655 Stirling's 80.14141019459478\n",
      "N 60 factorial 81.9201748493902 Stirling's 81.9195716681944\n",
      "N 61 factorial 83.70550468440095 Stirling's 83.70491139124287\n",
      "N 62 factorial 85.49789637389921 Stirling's 85.49731264981831\n",
      "N 63 factorial 87.2972369233528 Stirling's 87.29666246457663\n",
      "N 64 factorial 89.10341689733669 Stirling's 89.10285141433167\n",
      "N 65 factorial 90.91633025397954 Stirling's 90.91577347057473\n",
      "N 66 factorial 92.7358741895214 Stirling's 92.7353258420987\n",
      "N 67 factorial 94.56194899222223 Stirling's 94.56140882896698\n",
      "N 68 factorial 96.39445790492847 Stirling's 96.39392568513512\n",
      "N 69 factorial 98.23330699566573 Stirling's 98.23278248909392\n",
      "N 70 factorial 100.07840503567998 Stirling's 100.07788802195654\n",
      "N 71 factorial 101.92966338439905 Stirling's 101.92915365246206\n",
      "N 72 factorial 103.78699588083032 Stirling's 103.78649322841189\n",
      "N 73 factorial 105.65031874095078 Stirling's 105.64982297409519\n",
      "N 74 factorial 107.51955046068176 Stirling's 107.51906139329616\n",
      "N 75 factorial 109.39461172407346 Stirling's 109.39412917750852\n",
      "N 76 factorial 111.27542531635424 Stirling's 111.27494911901246\n",
      "N 77 factorial 113.16191604152672 Stirling's 113.16144602849602\n",
      "N 78 factorial 115.05401064421721 Stirling's 115.05354665692812\n",
      "N 79 factorial 116.95163773550765 Stirling's 116.95117962141225\n",
      "N 80 factorial 118.85472772249959 Stirling's 118.85427533477036\n",
      "N 81 factorial 120.76321274137824 Stirling's 120.76276593862562\n",
      "N 82 factorial 122.67702659376197 Stirling's 122.67658523976904\n",
      "N 83 factorial 124.59610468613803 Stirling's 124.59566864961133\n",
      "N 84 factorial 126.52038397219991 Stirling's 126.5199531265349\n",
      "N 85 factorial 128.4498028979142 Stirling's 128.44937712097467\n",
      "N 86 factorial 130.38430134915777 Stirling's 130.383880523068\n",
      "N 87 factorial 132.3238206017764 Stirling's 132.32340461272526\n",
      "N 88 factorial 134.26830327392656 Stirling's 134.2678920119828\n",
      "N 89 factorial 136.21769328057147 Stirling's 136.21728663950933\n",
      "N 90 factorial 138.1719357900108 Stirling's 138.1715336671453\n",
      "N 91 factorial 140.1309771823319 Stirling's 140.13057947836322\n",
      "N 92 factorial 142.09476500967745 Stirling's 142.09437162854374\n",
      "N 93 factorial 144.0632479582314 Stirling's 144.06285880696956\n",
      "N 94 factorial 146.03637581183108 Stirling's 146.03599080044492\n",
      "N 95 factorial 148.01409941711992 Stirling's 148.0137184584551\n",
      "N 96 factorial 149.9963706501595 Stirling's 149.99599365978523\n",
      "N 97 factorial 151.98314238442575 Stirling's 151.9827692805225\n",
      "N 98 factorial 153.97436846011823 Stirling's 153.97399916337113\n",
      "N 99 factorial 155.97000365471578 Stirling's 155.96963808821334\n"
     ]
    },
    {
     "name": "stderr",
     "output_type": "stream",
     "text": [
      "/tmp/ipykernel_4227/4206387619.py:15: RuntimeWarning: divide by zero encountered in log10\n",
      "  print('N', n, 'factorial', np.log10(factorial_array[n]), \"Stirling's\", np.log10(stirlings_array[n]))\n"
     ]
    }
   ],
   "source": [
    "N = 100 # The maximum N in the set of the question\n",
    "\n",
    "# Define the value arrays\n",
    "factorial_array = np.zeros(100)\n",
    "stirlings_array = np.zeros(100)\n",
    "\n",
    "for n in range(N):\n",
    "\n",
    "    factorial_array[n] = factorial(n)\n",
    "    stirlings_array[n] = stirlings_formula(n)\n",
    "\n",
    "# Compare the values calculated by factorial and by Stirling's approximation\n",
    "for n in range(N):\n",
    "\n",
    "    print('N', n, 'factorial', np.log10(factorial_array[n]), \"Stirling's\", np.log10(stirlings_array[n]))"
   ]
  },
  {
   "cell_type": "code",
   "execution_count": 78,
   "id": "d06c0d42-7478-43aa-b7ff-e39df039c7ec",
   "metadata": {},
   "outputs": [
    {
     "name": "stderr",
     "output_type": "stream",
     "text": [
      "/tmp/ipykernel_4227/3708305142.py:4: RuntimeWarning: divide by zero encountered in log\n",
      "  plt.plot(x, np.log(stirlings_array), label = \"Stirling's Formula\")\n"
     ]
    },
    {
     "data": {
      "image/png": "[encoded data removed]",
      "text/plain": [
       "<Figure size 640x480 with 1 Axes>"
      ]
     },
     "metadata": {},
     "output_type": "display_data"
    }
   ],
   "source": [
    "x = [n for n in range(100)]\n",
    "\n",
    "plt.plot(x, np.log(factorial_array), label = \"Factorial\")\n",
    "plt.plot(x, np.log(stirlings_array), label = \"Stirling's Formula\")\n",
    "\n",
    "plt.xlabel(\"N\")\n",
    "plt.ylabel(\"ln(N!)\")\n",
    "\n",
    "#plt.xlim(-1, 5)\n",
    "plt.legend()\n",
    "plt.grid()"
   ]
  },
  {
   "cell_type": "code",
   "execution_count": 51,
   "id": "57746917-c31b-49c1-9f97-8eb79331b1a5",
   "metadata": {},
   "outputs": [
    {
     "ename": "OverflowError",
     "evalue": "int too large to convert to float",
     "output_type": "error",
     "traceback": [
      "\u001b[0;31m---------------------------------------------------------------------------\u001b[0m",
      "\u001b[0;31mOverflowError\u001b[0m                             Traceback (most recent call last)",
      "Cell \u001b[0;32mIn[51], line 1\u001b[0m\n\u001b[0;32m----> 1\u001b[0m \u001b[38;5;28mprint\u001b[39m(\u001b[38;5;124m'\u001b[39m\u001b[38;5;124mN\u001b[39m\u001b[38;5;124m'\u001b[39m, \u001b[38;5;241m200\u001b[39m, \u001b[38;5;124m'\u001b[39m\u001b[38;5;124mfactorial\u001b[39m\u001b[38;5;124m'\u001b[39m, np\u001b[38;5;241m.\u001b[39mlog10(\u001b[38;5;28;43mfloat\u001b[39;49m\u001b[43m(\u001b[49m\u001b[43mfactorial\u001b[49m\u001b[43m(\u001b[49m\u001b[38;5;241;43m200\u001b[39;49m\u001b[43m)\u001b[49m\u001b[43m)\u001b[49m), \u001b[38;5;124m\"\u001b[39m\u001b[38;5;124mStirling\u001b[39m\u001b[38;5;124m'\u001b[39m\u001b[38;5;124ms\u001b[39m\u001b[38;5;124m\"\u001b[39m, np\u001b[38;5;241m.\u001b[39mlog10(stirlings_formula(\u001b[38;5;241m200\u001b[39m)))\n",
      "\u001b[0;31mOverflowError\u001b[0m: int too large to convert to float"
     ]
    }
   ],
   "source": [
    "print('N', 200, 'factorial', np.log10(factorial(200)), \"Stirling's\", np.log10(stirlings_formula(200)))\n",
    "\n",
    "# Try to run this cell without the factorial value. Both cases do not work because values are too large."
   ]
  },
  {
   "cell_type": "code",
   "execution_count": 55,
   "id": "71edeb42-aa0f-41c9-87f5-ead18c811c4d",
   "metadata": {},
   "outputs": [
    {
     "data": {
      "text/plain": [
       "' Problem 3.39 '"
      ]
     },
     "execution_count": 55,
     "metadata": {},
     "output_type": "execute_result"
    }
   ],
   "source": [
    "''' Problem 3.39 '''"
   ]
  },
  {
   "cell_type": "code",
   "execution_count": 63,
   "id": "580d2cf3-2c6d-41c6-8b71-33f423d11e8c",
   "metadata": {},
   "outputs": [],
   "source": [
    "events = 100000 # Total number of events\n",
    "students = 23\n",
    "occurrences = 0 # Occurrences in which there is two students with january first birthday\n",
    "\n",
    "for event in range(events):\n",
    "\n",
    "    birthdays = np.zeros(students)\n",
    "    january_1 = 0 # The january 1 birthday students quantity\n",
    "    \n",
    "    for student in range(students):\n",
    "\n",
    "        birthdays[student] = np.random.randint(1, 366) # Choose a random birthday for each student\n",
    "\n",
    "    # Checks if there is students with january first birthday\n",
    "    for i in range(birthdays.shape[0]): \n",
    "        if birthdays[i] == 1:\n",
    "            january_1 += 1\n",
    "\n",
    "    # Add 1 to occurrences if the quantity of january first birthday students is greater than one\n",
    "    if january_1 > 1:\n",
    "        occurrences += 1\n",
    "\n",
    "\n",
    "probability = occurrences / events"
   ]
  },
  {
   "cell_type": "code",
   "execution_count": 66,
   "id": "18dfb614-7254-42e3-8cac-1a42712859cd",
   "metadata": {},
   "outputs": [
    {
     "data": {
      "text/plain": [
       "0.00184"
      ]
     },
     "execution_count": 66,
     "metadata": {},
     "output_type": "execute_result"
    }
   ],
   "source": [
    "probability"
   ]
  },
  {
   "cell_type": "code",
   "execution_count": null,
   "id": "fa3dba0e-44cc-4132-baf9-ec0c0312067d",
   "metadata": {},
   "outputs": [],
   "source": [
    "''' Problem 3.48 '''"
   ]
  },
  {
   "cell_type": "code",
   "execution_count": 71,
   "id": "d5e2e68d-4640-4621-8b3f-d9e173462ccd",
   "metadata": {},
   "outputs": [],
   "source": [
    "def combinations(n, r):\n",
    "\n",
    "    return factorial(n) / (factorial(r) * factorial(n - r))"
   ]
  },
  {
   "cell_type": "code",
   "execution_count": null,
   "id": "69e40ec1-01f9-4cf3-bf6f-23eaf82470f0",
   "metadata": {},
   "outputs": [],
   "source": [
    "def hypergeometric_law()"
   ]
  }
 ],
 "metadata": {
  "kernelspec": {
   "display_name": "Python 3 (ipykernel)",
   "language": "python",
   "name": "python3"
  },
  "language_info": {
   "codemirror_mode": {
    "name": "ipython",
    "version": 3
   },
   "file_extension": ".py",
   "mimetype": "text/x-python",
   "name": "python",
   "nbconvert_exporter": "python",
   "pygments_lexer": "ipython3",
   "version": "3.12.2"
  }
 },
 "nbformat": 4,
 "nbformat_minor": 5
}
